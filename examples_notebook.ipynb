{
 "cells": [
  {
   "cell_type": "code",
   "execution_count": 8,
   "metadata": {
    "collapsed": true
   },
   "outputs": [],
   "source": [
    "import pprint\n",
    "from lynx import Converter, Equalizer\n",
    "from lynx.utils.log import create_log\n",
    "# set log level from DEBUG, INFO, WARNING, ERROR, CRITICAL\n",
    "logger = create_log(log_level=\"ERROR\")\n",
    "pp = pprint.PrettyPrinter(indent=4)"
   ]
  },
  {
   "cell_type": "code",
   "execution_count": 9,
   "outputs": [],
   "source": [
    "# init converter\n",
    "converter = Converter(style=\"LipidLynxX\", logger=logger)"
   ],
   "metadata": {
    "collapsed": false,
    "pycharm": {
     "name": "#%%\n"
    }
   }
  },
  {
   "cell_type": "code",
   "execution_count": 10,
   "outputs": [
    {
     "name": "stdout",
     "output_type": "stream",
     "text": [
      "Convert to MAX level by default:\n",
      "PC(16:0/18:2)\n",
      "Convert to B0 level :\n",
      "PC(34:2)\n",
      "Convert to D0 level :\n",
      "PC(16:0_18:2)\n"
     ]
    }
   ],
   "source": [
    "str_to_convert = \"PLPC\"\n",
    "# converted_str_result is a ConvertedStrData object\n",
    "# Find more information of ConvertedStrData in lynx.models.api_models\n",
    "converted_str_result = converter.convert_str(str_to_convert)\n",
    "print('Convert to MAX level by default:')\n",
    "print(converted_str_result.output)\n",
    "converted_str_result = converter.convert_str(str_to_convert, level='B0')\n",
    "print('Convert to B0 level :')\n",
    "print(converted_str_result.output)\n",
    "converted_str_result = converter.convert_str(str_to_convert, level='D0')\n",
    "print('Convert to D0 level :')\n",
    "print(converted_str_result.output)"
   ],
   "metadata": {
    "collapsed": false,
    "pycharm": {
     "name": "#%%\n"
    }
   }
  },
  {
   "cell_type": "code",
   "execution_count": 14,
   "outputs": [
    {
     "name": "stdout",
     "output_type": "stream",
     "text": [
      "Convert by default: ['PC(16:0/18:2)', 'SM(18:1;2/18:0)']\n",
      "Full structure of the result:\n",
      "{   'converted': [   ['PLPC', 'PC(16:0/18:2)'],\n",
      "                     ['C18 Sphingomyelin', 'SM(18:1;2/18:0)']],\n",
      "    'input': ['PLPC', 'C18 Sphingomyelin', 'UNKOWN_lipid'],\n",
      "    'output': ['PC(16:0/18:2)', 'SM(18:1;2/18:0)'],\n",
      "    'skipped': ['UNKOWN_lipid']}\n",
      "Convert to B0 level: ['PC(34:2)', 'SM(36:1;2)']\n",
      "Full structure of the result:\n",
      "{   'converted': [['PLPC', 'PC(34:2)'], ['C18 Sphingomyelin', 'SM(36:1;2)']],\n",
      "    'input': ['PLPC', 'C18 Sphingomyelin', 'UNKOWN_lipid'],\n",
      "    'output': ['PC(34:2)', 'SM(36:1;2)'],\n",
      "    'skipped': ['UNKOWN_lipid']}\n"
     ]
    }
   ],
   "source": [
    "lst_to_convert = [\"PLPC\", \"C18 Sphingomyelin\", \"UNKOWN_lipid\"]\n",
    "# converted_lst_result is a ConvertedListData object\n",
    "# Find more information of ConvertedListData in lynx.models.api_models\n",
    "converted_lst_result = converter.convert_list(lst_to_convert)\n",
    "print('Convert by default:')\n",
    "print(converted_lst_result.output)\n",
    "# get full information of the ConvertedListData object\n",
    "converted_lst_result_dct = converted_lst_result.dict()  # get data as dict\n",
    "print('Full structure of the result:')\n",
    "pp.pprint(converted_lst_result_dct)\n",
    "\n",
    "# Convert into Bulk level\n",
    "converted_lst_result = converter.convert_list(lst_to_convert, level=\"B0\")\n",
    "print('Convert to B0 level:')\n",
    "print(converted_lst_result.output)\n",
    "# get full information of the ConvertedListData object\n",
    "converted_lst_result_dct = converted_lst_result.dict()  # get data as dict\n",
    "print('Full structure of the result:')\n",
    "pp.pprint(converted_lst_result_dct)\n"
   ],
   "metadata": {
    "collapsed": false,
    "pycharm": {
     "name": "#%%\n"
    }
   }
  }
 ],
 "metadata": {
  "kernelspec": {
   "display_name": "Python 3",
   "language": "python",
   "name": "python3"
  },
  "language_info": {
   "codemirror_mode": {
    "name": "ipython",
    "version": 2
   },
   "file_extension": ".py",
   "mimetype": "text/x-python",
   "name": "python",
   "nbconvert_exporter": "python",
   "pygments_lexer": "ipython2",
   "version": "2.7.6"
  }
 },
 "nbformat": 4,
 "nbformat_minor": 0
}