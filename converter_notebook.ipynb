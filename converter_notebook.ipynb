{
 "cells": [
  {
   "cell_type": "markdown",
   "metadata": {},
   "source": [
    "This is a demo of LipidLynxX converter.\n",
    "For fully functional software, please check:\n",
    "https://github.com/SysMedOs/LipidLynxX"
   ]
  },
  {
   "cell_type": "markdown",
   "metadata": {
    "pycharm": {
     "name": "#%% md\n"
    }
   },
   "source": [
    "# Instructions\n",
    "\n",
    "- Click \"Cell\" -> \"Run All\" to start\n",
    "- A text input field labeled \"input_lipid_id\" and a button labeled \"Run LipidLynxX\" should appear\n",
    "- Input one lipid abbreviation e.g. PLPC\n",
    "- Then press \"Run LipidLynxX\" button to convert\n"
   ]
  },
  {
   "cell_type": "code",
   "execution_count": null,
   "metadata": {},
   "outputs": [],
   "source": [
    "%%capture\n",
    "# Setup LipidLynxX\n",
    "from ipywidgets import interact_manual\n",
    "import pandas as pd\n",
    "from lynx.controllers.converter import Converter\n",
    "\n",
    "converter = Converter()\n",
    "# LipidLynxX converter initialized"
   ]
  },
  {
   "cell_type": "code",
   "execution_count": null,
   "metadata": {
    "pycharm": {
     "name": "#%%\n"
    }
   },
   "outputs": [],
   "source": [
    "# Input one lipid abbreviation e.g. PLPC\n",
    "# Then press \"Run LipidLynxX\" button to convert\n",
    "convert=interact_manual.options(manual_name=\"Run LipidLynxX\")\n",
    "@convert(input_lipid_id=\"PLPC\")\n",
    "def convert(input_lipid_id):\n",
    "    converted_info = converter.convert(input_lipid_id).get(\"converted\")\n",
    "    if converted_info:\n",
    "        converted_result = pd.DataFrame(converted_info, columns=[\"INPUT\", \"OUTPUT\"])\n",
    "    else:\n",
    "        converted_result = \"No ID converted yet\"\n",
    "    return converted_result\n",
    "\n",
    "# Result will be displayed below"
   ]
  },
  {
   "cell_type": "markdown",
   "metadata": {},
   "source": [
    "### Troubleshoot\n",
    "\n",
    "- **Reset app**\n",
    "\n",
    "    - Just click \"Kernel\" -> \"Restart & Run All\"\n",
    "\n",
    "\n",
    "- You might see error like below, just click \"OK\"\n",
    "```\n",
    " An invalid notebook may not function properly. The validation error was:\n",
    "\n",
    " Notebook validation failed: {'model_id': '57d5f6762c9b4bf6852c373dd68dc2e7', 'version_major': 2, 'version_minor': 0} is not valid under any of the given schemas:\n",
    " {\n",
    "  \"model_id\": \"57d5f6762c9b4bf6852c373dd68dc2e7\",\n",
    "  \"version_major\": 2,\n",
    "  \"version_minor\": 0\n",
    " }\n",
    "```\n",
    "    - This issue is because Binder cannot load the input field without run it first, just run all cells or reset app. \n"
   ]
  },
  {
   "cell_type": "markdown",
   "metadata": {},
   "source": [
    "# LipidLynxX\n",
    "\n",
    "https://github.com/SysMedOs/LipidLynxX\n",
    "\n",
    "The LipidLynxX project is aimed to provide a unified identifier for major lipids, especially oxidized lipids\n",
    "in the epilipidome.\n",
    "\n",
    "\n",
    "### License\n",
    "\n",
    "- LipidLynxX is Dual-licensed\n",
    "\n",
    "  - For academic and non-commercial use: `GPLv2 License`:\n",
    "\n",
    "    - [The GNU General Public License version 2](https://www.gnu.org/licenses/old-licenses/gpl-2.0.en.html)\n",
    "\n",
    "  - For commercial use: please contact the develop team by email.\n",
    "\n",
    "- Please cite our publication in an appropriate form.\n",
    "\n",
    "  - LipidLynxX preprint on `bioRxiv.org`\n",
    "\n",
    "    - Zhixu Ni, Maria Fedorova.\n",
    "        \"LipidLynxX: lipid annotations converter for large scale lipidomics and epilipidomics datasets\"\n",
    "\n",
    "      - DOI: [10.1101/2020.04.09.033894](https://www.biorxiv.org/content/10.1101/2020.04.09.033894v1)\n",
    "\n",
    "\n",
    "### Report issues\n",
    "\n",
    "- Report any issues here: <https://github.com/SysMedOs/LipidLynxX/issues>\n",
    "\n",
    "### Fundings\n",
    "\n",
    "We acknowledge all projects that supports the development of LipidLynxX:\n",
    "\n",
    "- BMBF - Federal Ministry of Education and Research Germany:\n",
    "\n",
    "    <https://www.bmbf.de/en/>\n",
    "\n",
    "- e:Med Systems Medicine Network:\n",
    "\n",
    "    <http://www.sys-med.de/en/>\n",
    "\n",
    "- SysMedOS Project :\n",
    "\n",
    "    <https://home.uni-leipzig.de/fedorova/sysmedos/>\n",
    "\n",
    "\n"
   ]
  }
 ],
 "metadata": {
  "kernelspec": {
   "display_name": "Python 3",
   "language": "python",
   "name": "python3"
  },
  "language_info": {
   "codemirror_mode": {
    "name": "ipython",
    "version": 3
   },
   "file_extension": ".py",
   "mimetype": "text/x-python",
   "name": "python",
   "nbconvert_exporter": "python",
   "pygments_lexer": "ipython3",
   "version": "3.7.7"
  }
 },
 "nbformat": 4,
 "nbformat_minor": 1
}
