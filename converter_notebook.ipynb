{
 "cells": [
  {
   "cell_type": "markdown",
   "metadata": {},
   "source": [
    "This is a demo of LipidLynxX converter.\n",
    "For fully functional software, please check:\n",
    "https://github.com/SysMedOs/LipidLynxX\n",
    "\n",
    "# Instructions\n",
    "\n",
    "- Click \"Cell\" -> \"Run All\" to start\n",
    "- A text input field labeled \"input_lipid_id\" and a button labeled \"Run LipidLynxX\" should appear\n",
    "- Input/paste lipid abbreviation e.g. PLPC\n",
    "    - Multiple lipid abbreviation can be converted, just make sure one ID per line\n",
    "    - More than 500 lipid may beyond the limit of this binder demo app, for larger dataset, please try the full software\n",
    "- Select the export levels and output format. [Read more about the levels here](https://github.com/SysMedOs/LipidLynxX#lipidlynxx-nomenclature).\n",
    "- Then press \"Run LipidLynxX Converter\" button to convert\n",
    "- You can download output in .csv / .xlsx format"
   ]
  },
  {
   "cell_type": "code",
   "execution_count": 1,
   "metadata": {},
   "outputs": [],
   "source": [
    "%%capture\n",
    "# Setup LipidLynxX\n",
    "from ipywidgets import widgets\n",
    "from IPython.display import display, FileLink\n",
    "import pandas as pd\n",
    "from lynx.controllers.converter import Converter\n",
    "# Set output style to \"LipidLynxX\", or \"COMP_DB\"\n",
    "# Please reset the app after changing the output style\n",
    "converter = Converter(style=\"LipidLynxX\")  # Change here for export style\n",
    "# LipidLynxX converter initialized"
   ]
  },
  {
   "cell_type": "code",
   "execution_count": 2,
   "metadata": {
    "pycharm": {
     "name": "#%%\n"
    }
   },
   "outputs": [
    {
     "data": {
      "text/plain": "Textarea(value='CoA(20:3(11Z,14Z,17Z))\\nFaCoA 18:2;O\\nPLPC\\nDHA\\nHETE\\noleic acid\\nC18 Sphingomyelin\\nPE 16:0-…",
      "application/vnd.jupyter.widget-view+json": {
       "version_major": 2,
       "version_minor": 0,
       "model_id": "51de5c63970449b8af3d61affec83c1c"
      }
     },
     "metadata": {},
     "output_type": "display_data"
    },
    {
     "data": {
      "text/plain": "Dropdown(description='Level:', index=1, options=('B0', 'B1', 'B2', 'D0', 'D1', 'D2'), value='B1')",
      "application/vnd.jupyter.widget-view+json": {
       "version_major": 2,
       "version_minor": 0,
       "model_id": "f423368fe28b46618687c82125e9e92e"
      }
     },
     "metadata": {},
     "output_type": "display_data"
    },
    {
     "data": {
      "text/plain": "RadioButtons(description='Export as:', options=('.csv', '.xlsx'), value='.csv')",
      "application/vnd.jupyter.widget-view+json": {
       "version_major": 2,
       "version_minor": 0,
       "model_id": "7760b11352e649b9be4e03066ce013fa"
      }
     },
     "metadata": {},
     "output_type": "display_data"
    },
    {
     "data": {
      "text/plain": "Button(description='Run LipidLynxX', style=ButtonStyle())",
      "application/vnd.jupyter.widget-view+json": {
       "version_major": 2,
       "version_minor": 0,
       "model_id": "78a4342b15d24953a4f69b58fcbcfc12"
      }
     },
     "metadata": {},
     "output_type": "display_data"
    },
    {
     "data": {
      "text/plain": "Output(layout=Layout(border='2px solid green'))",
      "application/vnd.jupyter.widget-view+json": {
       "version_major": 2,
       "version_minor": 0,
       "model_id": "93463961fa484b7985e677eea779eb7f"
      }
     },
     "metadata": {},
     "output_type": "display_data"
    }
   ],
   "source": [
    "# Input one lipid abbreviation each line e.g. PLPC\n",
    "# A list of 500 lipid ID can be converted in 2 min\n",
    "# Then press \"Run LipidLynxX\" button to convert\n",
    "id_input_field = widgets.Textarea(value=\"CoA(20:3(11Z,14Z,17Z))\\nFaCoA 18:2;O\\nPLPC\\nDHA\\nHETE\\noleic acid\\nC18 Sphingomyelin\\nPE 16:0-20:4\",\n",
    "                                  description=\"Lipid IDs:\",layout={\"height\": \"120px\"})\n",
    "level_selection = widgets.Dropdown(options=['B0', 'B1', 'B2', 'D0', 'D1', 'D2'], value='B1', description='Level:')\n",
    "file_type_button = widgets.RadioButtons(options=[\".csv\", \".xlsx\"], value=\".csv\",\n",
    "                                        description=\"Export as:\",disabled=False)\n",
    "run_button = widgets.Button(description=\"Run LipidLynxX\")\n",
    "results_info = widgets.Output(layout={\"border\": \"2px solid green\"})\n",
    "display(id_input_field, level_selection, file_type_button, run_button, results_info)\n",
    "def convert(button_on_click):\n",
    "    results_info.clear_output()\n",
    "    id_input_lst = id_input_field.value.split(\"\\n\")\n",
    "    with results_info:\n",
    "        start_log = f\"Start to process {len(id_input_lst)} Lipids to level {level_selection.value} ...\"\n",
    "        display(start_log)\n",
    "    converted_info = converter.convert(id_input_lst, level=level_selection.value).converted\n",
    "    if converted_info:\n",
    "        converted_data = pd.DataFrame(converted_info, columns=[\"INPUT\", \"OUTPUT\"])\n",
    "        output_file = f\"./LipidLynxX_demo_result{file_type_button.value}\"\n",
    "        if file_type_button.value == \".xlsx\":\n",
    "            converted_data.to_excel(output_file)\n",
    "        else:\n",
    "            converted_data.to_csv(output_file)\n",
    "        download_link = FileLink(output_file, result_html_prefix=\"Click here to download: \")\n",
    "        download_notification = \"Some browser will generate .xls suffix for the .csv file. Please rename the suffix back to .csv to open it correctly\"\n",
    "        with results_info:\n",
    "            end_log = f\"Converted: {converted_data.shape[0]} / {len(id_input_lst)}\"\n",
    "            display(end_log)\n",
    "            display(download_link)\n",
    "            display(converted_data)\n",
    "    else:\n",
    "        converted_data = \"No ID converted yet\"\n",
    "        with results_info:\n",
    "            display(converted_data)\n",
    "    return converted_data\n",
    "\n",
    "converted_result = run_button.on_click(convert)\n",
    "\n",
    "# Result will be displayed below\n",
    "# You can download output in .csv / .xlsx format"
   ]
  },
  {
   "cell_type": "markdown",
   "metadata": {},
   "source": [
    "### Troubleshoot\n",
    "\n",
    "- **Reset app**\n",
    "\n",
    "    - Just click \"Kernel\" -> \"Restart & Run All\"\n",
    "\n",
    "\n",
    "- You might see error like below, just click \"OK\"\n",
    "```\n",
    " An invalid notebook may not function properly. The validation error was:\n",
    "\n",
    " Notebook validation failed: {\"model_id\": \"57d5f6762c9b4bf6852c373dd68dc2e7\", \"version_major\": 2, \"version_minor\": 0} is not valid under any of the given schemas:\n",
    " {\n",
    "  \"model_id\": \"57d5f6762c9b4bf6852c373dd68dc2e7\",\n",
    "  \"version_major\": 2,\n",
    "  \"version_minor\": 0\n",
    " }\n",
    "```\n",
    "    - This issue happens when this notebook is time out on binder server.\n",
    "    You can ignore the error message and wait to let the run finish.\n",
    "    - If the demo app do not respond after 3 min,try to reset app: \"Kernel\" -> \"Restart & Run All\"\n",
    "\n",
    "- **Not connected**\n",
    "    - If the notebook is not active for a while, it will be disconnected,\n",
    "    please visit https://github.com/SysMedOs/LipidLynxX and start this app again."
   ]
  },
  {
   "cell_type": "markdown",
   "metadata": {},
   "source": [
    "# LipidLynxX\n",
    "\n",
    "https://github.com/SysMedOs/LipidLynxX\n",
    "![GitHub last commit](https://img.shields.io/github/last-commit/SysMedOs/LipidLynxX.svg)\n",
    "\n",
    "\n",
    "The LipidLynxX project is aimed to provide a unified identifier for major lipids, especially oxidized lipids\n",
    "in the epilipidome.\n",
    "\n",
    "\n",
    "### License\n",
    "\n",
    "- LipidLynxX is Dual-licensed\n",
    "\n",
    "  - For academic and non-commercial use: `GPLv2 License`:\n",
    "\n",
    "    - [The GNU General Public License version 2](https://www.gnu.org/licenses/old-licenses/gpl-2.0.en.html)\n",
    "\n",
    "  - For commercial use: please contact the develop team by email.\n",
    "\n",
    "- Please cite our publication in an appropriate form.\n",
    "\n",
    "  - LipidLynxX preprint on `bioRxiv.org`\n",
    "\n",
    "    - Zhixu Ni, Maria Fedorova.\n",
    "        \"LipidLynxX: lipid annotations converter for large scale lipidomics and epilipidomics datasets\"\n",
    "\n",
    "      - DOI: [10.1101/2020.04.09.033894](https://www.biorxiv.org/content/10.1101/2020.04.09.033894v1)\n",
    "\n",
    "\n",
    "### Report issues\n",
    "\n",
    "- Report any issues here: <https://github.com/SysMedOs/LipidLynxX/issues>\n",
    "\n",
    "### Fundings\n",
    "\n",
    "We acknowledge all projects that supports the development of LipidLynxX:\n",
    "\n",
    "- BMBF - Federal Ministry of Education and Research Germany:\n",
    "\n",
    "    <https://www.bmbf.de/en/>\n",
    "\n",
    "- e:Med Systems Medicine Network:\n",
    "\n",
    "    <http://www.sys-med.de/en/>\n",
    "\n",
    "- SysMedOS Project :\n",
    "\n",
    "    <https://home.uni-leipzig.de/fedorova/sysmedos/>\n",
    "\n",
    "\n"
   ]
  }
 ],
 "metadata": {
  "kernelspec": {
   "display_name": "Python 3",
   "language": "python",
   "name": "python3"
  },
  "language_info": {
   "codemirror_mode": {
    "name": "ipython",
    "version": 3
   },
   "file_extension": ".py",
   "mimetype": "text/x-python",
   "name": "python",
   "nbconvert_exporter": "python",
   "pygments_lexer": "ipython3",
   "version": "3.7.3"
  }
 },
 "nbformat": 4,
 "nbformat_minor": 1
}